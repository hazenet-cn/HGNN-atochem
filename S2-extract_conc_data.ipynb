{
 "cells": [
  {
   "cell_type": "code",
   "execution_count": 3,
   "metadata": {},
   "outputs": [],
   "source": [
    "import os\n",
    "from tqdm import  tqdm\n",
    "\n",
    "all_conc = os.listdir(\"./data/raw_data/CONC/\")\n",
    "all_conc = [item for item in all_conc if not item.startswith('.')]"
   ]
  },
  {
   "cell_type": "code",
   "execution_count": null,
   "metadata": {},
   "outputs": [],
   "source": [
    "all_dataset = {}\n",
    "\n",
    "for conc in tqdm(all_conc):\n",
    "    conc_name = conc.split(\".\")[0]\n",
    "    conc_df = pd.read_csv(os.path.join(\"./data/raw_data/CONC/\", conc))\n",
    "\n",
    "    chemical_columns = [col for col in conc_df.columns if re.match(r'CONC\\(\\d+\\)', col)]\n",
    "    concentration_pairs = {}\n",
    "\n",
    "    for i in range(len(conc_df) - 1):\n",
    "        current_row = conc_df.iloc[i]\n",
    "        next_row = conc_df.iloc[i + 1]\n",
    "        \n",
    "        current_jdate, current_jtime = current_row['JDATE'], current_row['JTIME']\n",
    "        # if current_jdata is 2019001, skip\n",
    "        if int(current_jdate) == 2019001: continue\n",
    "        next_jdate, next_jtime = next_row['JDATE'], next_row['JTIME']\n",
    "        \n",
    "        if current_jdate == next_jdate and next_jtime == current_jtime:\n",
    "            initial_conc = current_row[chemical_columns].values\n",
    "            final_conc = next_row[chemical_columns].values\n",
    "            concentration_pairs[(int(current_jdate), int(current_jtime))] = {'initial': initial_conc, 'final': final_conc}\n",
    "    df = pd.DataFrame(concentration_pairs)\n",
    "    \n",
    "    all_dataset[conc_name] = concentration_pairs"
   ]
  },
  {
   "cell_type": "code",
   "execution_count": 5,
   "metadata": {},
   "outputs": [],
   "source": [
    "import pickle as pkl\n",
    "with open(\"./data/processed_data/all_dataset.pkl\", \"wb\") as f:\n",
    "    pkl.dump(all_dataset, f)"
   ]
  }
 ],
 "metadata": {
  "kernelspec": {
   "display_name": "Python 3 (ipykernel)",
   "language": "python",
   "name": "python3"
  },
  "language_info": {
   "codemirror_mode": {
    "name": "ipython",
    "version": 3
   },
   "file_extension": ".py",
   "mimetype": "text/x-python",
   "name": "python",
   "nbconvert_exporter": "python",
   "pygments_lexer": "ipython3",
   "version": "3.9.5"
  }
 },
 "nbformat": 4,
 "nbformat_minor": 4
}
